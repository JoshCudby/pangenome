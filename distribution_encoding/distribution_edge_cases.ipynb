{
 "cells": [
  {
   "cell_type": "code",
   "execution_count": 114,
   "metadata": {},
   "outputs": [],
   "source": [
    "import matplotlib.pyplot as plt\n",
    "import numpy as np\n",
    "from math import ceil, floor\n",
    "from itertools import product"
   ]
  },
  {
   "cell_type": "code",
   "execution_count": 150,
   "metadata": {},
   "outputs": [],
   "source": [
    "n = 1000\n",
    "beta = 0.01\n",
    "k = beta * n"
   ]
  },
  {
   "cell_type": "code",
   "execution_count": 151,
   "metadata": {},
   "outputs": [],
   "source": [
    "def dist(i, ii):\n",
    "    return min(abs(i - ii), n - abs(i - ii))\n",
    "\n",
    "def prob_linear(i, ii):\n",
    "    return ((k/2 + 1) - dist(i, ii))/ ((k/2 + 1) ** 2) if dist(i, ii) <= k/2 else 0\n",
    "\n",
    "def overlap(i, j):\n",
    "    return sum((prob_linear(i, ii) * prob_linear(j, ii)) ** 0.5 for ii in range(n))\n",
    "\n",
    "\n",
    "overlaps = np.array([overlap(i, 0) for i in range(int(n/2) + 1)])\n"
   ]
  },
  {
   "cell_type": "code",
   "execution_count": 135,
   "metadata": {},
   "outputs": [],
   "source": [
    "symbols = ['A', 'C', 'G', 'T']\n"
   ]
  },
  {
   "cell_type": "code",
   "execution_count": 127,
   "metadata": {},
   "outputs": [],
   "source": [
    "def string_norm(X):\n",
    "    tot = 0\n",
    "    for i, j in product(range(len(X)), range(len(X))):\n",
    "        if X[i] == X[j]:\n",
    "            tot += overlaps[dist(i, j)]\n",
    "    return tot ** 0.5"
   ]
  },
  {
   "cell_type": "code",
   "execution_count": 123,
   "metadata": {},
   "outputs": [],
   "source": [
    "def string_score(X, Y):\n",
    "    tot = 0\n",
    "    for i, j in product(range(len(X)), range(len(Y))):\n",
    "        if X[i] == Y[j]:\n",
    "            tot += overlaps[dist(i, j)]\n",
    "    return tot / (string_norm(X) * string_norm(Y))"
   ]
  },
  {
   "cell_type": "code",
   "execution_count": 152,
   "metadata": {},
   "outputs": [
    {
     "data": {
      "text/plain": [
       "0.644287026118463"
      ]
     },
     "execution_count": 152,
     "metadata": {},
     "output_type": "execute_result"
    }
   ],
   "source": [
    "\n",
    "# Distance = k\n",
    "X1 = np.array(list(symbols[0] * int(k/2)+ (symbols[1] * int(k/2) + symbols[2] * int(k/2) + symbols[3] * int(k/2)) * floor((int(n / int(k/2)) -1)/ 3)))\n",
    "Y1 = np.array(list((symbols[1] * int(k/2) + symbols[2] * int(k/2) + symbols[3] * int(k/2)) * floor((int(n / int(k/2)) -1)/ 3) + symbols[0] * int(k/2)))\n",
    "string_score(X1, Y1)"
   ]
  },
  {
   "cell_type": "code",
   "execution_count": 153,
   "metadata": {},
   "outputs": [
    {
     "data": {
      "text/plain": [
       "0.9990848333325062"
      ]
     },
     "execution_count": 153,
     "metadata": {},
     "output_type": "execute_result"
    }
   ],
   "source": [
    "\n",
    "diff_block_X = symbols[0] + symbols[1] + symbols[2] + symbols[2]\n",
    "diff_block_Y = symbols[0] + symbols[2] + symbols[1] + symbols[1]\n",
    "\n",
    "# Distance > k\n",
    "X2 = np.array(list(diff_block_X * ceil(k / 3) + symbols[0] * (n - 4 * ceil(k / 3))))\n",
    "Y2 = np.array(list(diff_block_Y * ceil(k / 3) + symbols[0] * (n - 4 * ceil(k / 3))))\n",
    "string_score(X2, Y2)"
   ]
  },
  {
   "cell_type": "code",
   "execution_count": 154,
   "metadata": {},
   "outputs": [
    {
     "data": {
      "text/plain": [
       "0.9999999999999998"
      ]
     },
     "execution_count": 154,
     "metadata": {},
     "output_type": "execute_result"
    }
   ],
   "source": [
    "# Distance = 0\n",
    "X3 = np.array(list((symbols[0] + symbols[1] + symbols[2] + symbols[3]) * int(n /4)))\n",
    "Y3 = X3\n",
    "\n",
    "string_score(X3, Y3)"
   ]
  },
  {
   "cell_type": "code",
   "execution_count": 155,
   "metadata": {},
   "outputs": [
    {
     "data": {
      "text/plain": [
       "0.8268541982624206"
      ]
     },
     "execution_count": 155,
     "metadata": {},
     "output_type": "execute_result"
    }
   ],
   "source": [
    "# Distance = 3n/4\n",
    "X4 = diff_block_X * int(n / 4)\n",
    "Y4 = diff_block_Y * int(n / 4)\n",
    "string_score(X4, Y4)"
   ]
  },
  {
   "cell_type": "code",
   "execution_count": 158,
   "metadata": {},
   "outputs": [
    {
     "data": {
      "text/plain": [
       "0.7673752861917985"
      ]
     },
     "execution_count": 158,
     "metadata": {},
     "output_type": "execute_result"
    }
   ],
   "source": [
    "rng = np.random.default_rng()\n",
    "# Random\n",
    "rand_X = rng.integers(0, 4, n)\n",
    "rand_Y = rng.integers(0, 4, n)\n",
    "X5 = np.array([symbols[rand_X[i]] for i in range(n)])\n",
    "Y5 = np.array([symbols[rand_Y[i]] for i in range(n)])\n",
    "string_score(X5, Y5)"
   ]
  },
  {
   "cell_type": "code",
   "execution_count": null,
   "metadata": {},
   "outputs": [],
   "source": []
  }
 ],
 "metadata": {
  "kernelspec": {
   "display_name": "pangenome",
   "language": "python",
   "name": "python3"
  },
  "language_info": {
   "codemirror_mode": {
    "name": "ipython",
    "version": 3
   },
   "file_extension": ".py",
   "mimetype": "text/x-python",
   "name": "python",
   "nbconvert_exporter": "python",
   "pygments_lexer": "ipython3",
   "version": "3.11.7"
  }
 },
 "nbformat": 4,
 "nbformat_minor": 2
}
