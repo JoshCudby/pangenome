{
 "cells": [
  {
   "cell_type": "code",
   "execution_count": 1,
   "metadata": {},
   "outputs": [],
   "source": [
    "import networkx as nx\n",
    "import numpy as np\n",
    "import matplotlib.pyplot as plt\n",
    "import gfapy\n",
    "from math import floor\n",
    "from itertools import product\n",
    "from dimod.reference.samplers import SimulatedAnnealingSampler\n",
    "from dimod import BinaryQuadraticModel, BQM\n",
    "from dwave.system import LeapHybridSampler"
   ]
  },
  {
   "cell_type": "code",
   "execution_count": 2,
   "metadata": {},
   "outputs": [
    {
     "data": {
      "image/png": "[encoded data removed]",
      "text/plain": [
       "<Figure size 432x288 with 1 Axes>"
      ]
     },
     "metadata": {},
     "output_type": "display_data"
    }
   ],
   "source": [
    "g = nx.Graph()\n",
    "g.add_nodes_from([\n",
    "    (0, {\"weight\": 1}),\n",
    "    (1, {\"weight\": 2}),\n",
    "    (2, {\"weight\": 3}),\n",
    "    (3, {\"weight\": 2}),\n",
    "    (4, {\"weight\": 1}),\n",
    "    (5, {\"weight\": 4}),\n",
    "    (6, {\"weight\": 1})\n",
    "])\n",
    "g.add_edges_from([\n",
    "    (0, 1),\n",
    "    (1, 2),\n",
    "    (1, 4),\n",
    "    (2, 2),\n",
    "    (2, 3),\n",
    "    (3, 4),\n",
    "    (3, 5),\n",
    "    (5, 5),\n",
    "    (5, 6)\n",
    "])\n",
    "subax1 = plt.subplot(121)\n",
    "nx.draw(g, with_labels=True, font_weight='bold')"
   ]
  },
  {
   "cell_type": "code",
   "execution_count": 52,
   "metadata": {},
   "outputs": [
    {
     "data": {
      "image/png": "[encoded data removed]",
      "text/plain": [
       "<Figure size 432x288 with 1 Axes>"
      ]
     },
     "metadata": {},
     "output_type": "display_data"
    }
   ],
   "source": [
    "g = nx.Graph()\n",
    "g.add_nodes_from([\n",
    "    (0, {\"weight\": 1}),\n",
    "    (1, {\"weight\": 1}),\n",
    "    (2, {\"weight\": 2}),\n",
    "    (3, {\"weight\": 1}),\n",
    "])\n",
    "g.add_edges_from([\n",
    "    (0, 1),\n",
    "    (1, 2),\n",
    "    (2, 3),\n",
    "    (2, 2),\n",
    "    (1, 3)\n",
    "])\n",
    "subax1 = plt.subplot(121)\n",
    "nx.draw(g, with_labels=True, font_weight='bold')"
   ]
  },
  {
   "cell_type": "code",
   "execution_count": 4,
   "metadata": {},
   "outputs": [],
   "source": [
    "def expand_graph_to_max_path_digraph(graph: nx.Graph, final_node=None):\n",
    "    dg = nx.DiGraph()\n",
    "    for node in graph.nodes:\n",
    "        weight = graph.nodes.data()[node][\"weight\"]\n",
    "        for k in range(weight):\n",
    "            dg.add_node(f'{node}_{k}')\n",
    "        \n",
    "    for edge in graph.edges:\n",
    "        if not edge[0] == edge[1]:\n",
    "            weight_i = graph.nodes.data()[edge[0]][\"weight\"]\n",
    "            weight_j = graph.nodes.data()[edge[1]][\"weight\"]\n",
    "            for i in range(weight_i):\n",
    "                for j in range(weight_j):\n",
    "                    dg.add_edges_from([\n",
    "                        (f'{edge[0]}_{i}', f'{edge[1]}_{j}'),\n",
    "                        (f'{edge[1]}_{j}', f'{edge[0]}_{i}')\n",
    "                    ])\n",
    "        else:\n",
    "            weight = graph.nodes.data()[edge[0]][\"weight\"]\n",
    "            for i in range(weight - 1):\n",
    "                dg.add_edge(\n",
    "                    f'{edge[0]}_{i}', f'{edge[0]}_{i + 1}'\n",
    "                )\n",
    "        \n",
    "    dg.add_node('end')\n",
    "    if final_node is None:\n",
    "        final_node = list(g.nodes)[-1]\n",
    "    weight = graph.nodes.data()[final_node][\"weight\"]\n",
    "    for i in range(weight):\n",
    "        dg.add_edge(f'{final_node}_{i}', 'end')     \n",
    "    dg.add_edge('end', 'end')        \n",
    "    \n",
    "    return dg\n",
    "    "
   ]
  },
  {
   "cell_type": "code",
   "execution_count": 6,
   "metadata": {},
   "outputs": [],
   "source": [
    "def max_path_qubo_from_digraph(dg: nx.DiGraph, penalty=None):\n",
    "    nodes = list(dg.nodes)\n",
    "    end_node = nodes[-1]\n",
    "    W = len(nodes) - 1\n",
    "    if penalty is None:\n",
    "        penalty = W\n",
    "    \n",
    "    qubo_matrix = np.zeros(shape=(W+1, W+1, W+1, W+1), dtype=int)\n",
    "    for t in range(W):\n",
    "        for i, j in product(range(W+1), range(W+1)):\n",
    "            if (nodes[i], nodes[j]) not in dg.edges:\n",
    "                qubo_matrix[t, i, t+1, j] += penalty\n",
    "            else:\n",
    "                qubo_matrix[t, i, t+1, j] += -1 if (nodes[i] != end_node and nodes[j] != end_node) else 0\n",
    "    \n",
    "    for t in range(W+1):\n",
    "        for i in range(W+1):\n",
    "            qubo_matrix[t, i, t, i] -= penalty\n",
    "            for j in range(i+1, W+1):\n",
    "                qubo_matrix[t, i, t, j] += 2 * penalty\n",
    "                \n",
    "    for i in range(W+1):\n",
    "        for t1 in range(W+1):\n",
    "            qubo_matrix[t1, i, t1, i] -= penalty\n",
    "            for t2 in range(t1+1, W+1):\n",
    "                qubo_matrix[t1, i, t2, i] += 2 * penalty\n",
    "    \n",
    "    qubo_matrix[1, 1, 1, 1] -= penalty\n",
    "    qubo_matrix[W, W, W, W] -= penalty\n",
    "    \n",
    "    qubo_matrix = qubo_matrix.reshape(((W+1)**2, (W+1)**2))\n",
    "    \n",
    "    return qubo_matrix\n",
    "        \n",
    "    "
   ]
  },
  {
   "cell_type": "code",
   "execution_count": 60,
   "metadata": {},
   "outputs": [],
   "source": [
    "dg = expand_graph_to_max_path_digraph(g)    \n",
    "W = len(dg.nodes) - 1\n",
    "Q = max_path_qubo_from_digraph(dg, penalty=W)"
   ]
  },
  {
   "cell_type": "code",
   "execution_count": 59,
   "metadata": {},
   "outputs": [
    {
     "data": {
      "image/png": "[encoded data removed]",
      "text/plain": [
       "<Figure size 432x288 with 1 Axes>"
      ]
     },
     "metadata": {},
     "output_type": "display_data"
    }
   ],
   "source": [
    "nx.draw_kamada_kawai(dg, with_labels=True, font_weight='bold')"
   ]
  },
  {
   "cell_type": "code",
   "execution_count": 61,
   "metadata": {},
   "outputs": [],
   "source": [
    "sampler = SimulatedAnnealingSampler()\n",
    "bqm = BQM(Q, 'BINARY')\n",
    "bqm.offset = W * (2 * W + 4)"
   ]
  },
  {
   "cell_type": "code",
   "execution_count": 62,
   "metadata": {},
   "outputs": [],
   "source": [
    "sampleset = sampler.sample(bqm, num_reads=5)\n",
    "best_sample = sampleset.first.sample\n",
    "best_energy = sampleset.first.energy"
   ]
  },
  {
   "cell_type": "code",
   "execution_count": 10,
   "metadata": {},
   "outputs": [],
   "source": [
    "def index_to_node_time(idx, nodes):\n",
    "    rem = idx % nodes\n",
    "    div = floor(idx / nodes)\n",
    "    return (div, rem)"
   ]
  },
  {
   "cell_type": "code",
   "execution_count": 64,
   "metadata": {},
   "outputs": [
    {
     "data": {
      "text/plain": [
       "[(0, '0_0'), (1, '1_0'), (2, '2_0'), (3, '2_1'), (4, '3_0'), (5, 'end')]"
      ]
     },
     "execution_count": 64,
     "metadata": {},
     "output_type": "execute_result"
    }
   ],
   "source": [
    "on = []\n",
    "for i in range(len(best_sample.keys())):\n",
    "    if best_sample[i] == 1:\n",
    "        on.append(i)\n",
    "path = [index_to_node_time(x, W + 1) for x in on]\n",
    "path = [(e[0], list(dg.nodes)[e[1]]) for e in path]\n",
    "path"
   ]
  }
 ],
 "metadata": {
  "kernelspec": {
   "display_name": "pangenome",
   "language": "python",
   "name": "python3"
  },
  "language_info": {
   "codemirror_mode": {
    "name": "ipython",
    "version": 3
   },
   "file_extension": ".py",
   "mimetype": "text/x-python",
   "name": "python",
   "nbconvert_exporter": "python",
   "pygments_lexer": "ipython3",
   "version": "3.6.15"
  }
 },
 "nbformat": 4,
 "nbformat_minor": 2
}
