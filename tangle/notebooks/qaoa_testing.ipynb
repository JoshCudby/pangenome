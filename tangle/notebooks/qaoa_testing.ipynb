{
 "cells": [
  {
   "cell_type": "code",
   "execution_count": 1,
   "metadata": {},
   "outputs": [],
   "source": [
    "import networkx as nx\n",
    "import numpy as np\n",
    "import matplotlib.pyplot as plt\n",
    "from itertools import product"
   ]
  },
  {
   "cell_type": "code",
   "execution_count": 6,
   "metadata": {},
   "outputs": [],
   "source": [
    "from qiskit.quantum_info import SparsePauliOp\n",
    "from qiskit.circuit.library import RealAmplitudes, QAOAAnsatz\n",
    "from qiskit.circuit import QuantumCircuit, QuantumRegister, ClassicalRegister\n",
    "from qiskit.quantum_info import SparsePauliOp\n",
    "from qiskit.transpiler.preset_passmanagers import generate_preset_pass_manager\n",
    "from qiskit_ibm_runtime.fake_provider import FakeManilaV2\n",
    "from qiskit_aer import AerSimulator\n",
    "from qiskit_ibm_runtime import Session, SamplerV2 as Sampler, QiskitRuntimeService"
   ]
  },
  {
   "cell_type": "code",
   "execution_count": 4,
   "metadata": {},
   "outputs": [
    {
     "data": {
      "image/png": "[encoded data removed]",
      "text/plain": [
       "<Figure size 640x480 with 1 Axes>"
      ]
     },
     "metadata": {},
     "output_type": "display_data"
    }
   ],
   "source": [
    "g = nx.Graph()\n",
    "g.add_nodes_from([\n",
    "    (0, {\"weight\": 1, \"start\": \"start\"}),\n",
    "    (1, {\"weight\": 1}),\n",
    "    (2, {\"weight\": 1}),\n",
    "    (3, {\"weight\": 1, \"start\": \"end\"}),\n",
    "])\n",
    "g.add_edges_from([\n",
    "    (0, 1),\n",
    "    (1, 2),\n",
    "    (1, 3),\n",
    "    (2, 2),\n",
    "    (2, 3),\n",
    "])\n",
    "subax1 = plt.plot()\n",
    "nx.draw_kamada_kawai(g, with_labels=True, font_weight='bold')"
   ]
  },
  {
   "cell_type": "code",
   "execution_count": 5,
   "metadata": {},
   "outputs": [],
   "source": [
    "def normalise_node_weights(graph: nx.Graph, normalisation: float) -> nx.Graph:\n",
    "    \"\"\"Normalises weights of nodes in a graph by a constant factor.\n",
    "\n",
    "    Args:\n",
    "        graph (nx.Graph): a node-weighted graph, with node attribute \"weight\".\n",
    "        normalisation (float): the constant factor to normalise weights by.\n",
    "\n",
    "    Returns:\n",
    "        nx.Graph: a graph with node attributes \"normalised_weight\".\n",
    "    \"\"\"\n",
    "    for node in graph.nodes:\n",
    "        graph.nodes[node][\"normalised_weight\"] = round(graph.nodes[node][\"weight\"] / normalisation)\n",
    "    return graph"
   ]
  },
  {
   "cell_type": "code",
   "execution_count": 6,
   "metadata": {},
   "outputs": [],
   "source": [
    "def graph_to_max_path_digraph(graph: nx.Graph) -> nx.DiGraph:\n",
    "    \"\"\"Converts a (normalised) node-weighted graph to a corresponding directed graph with extra nodes.\n",
    "    \n",
    "    Nodes with weight > 1 are split into multiple nodes.\n",
    "    A new \"end\" node is added.\n",
    "    Suitable edges are added so that a max path on the new graph corresponds to a max path on the original graph.\n",
    "\n",
    "    Args:\n",
    "        graph (nx.Graph): a node-weighted graph.\n",
    "\n",
    "    Returns:\n",
    "        nx.DiGraph: an unweighted, directed graph.\n",
    "    \"\"\"\n",
    "    dg = nx.DiGraph()\n",
    "    for node in graph.nodes:\n",
    "        weight = graph.nodes[node][\"normalised_weight\"]\n",
    "        for k in range(weight):\n",
    "            dg.add_node(f'{node}_{k}')\n",
    "        \n",
    "    for edge in graph.edges:\n",
    "        if not edge[0] == edge[1]:\n",
    "            weight_i = graph.nodes[edge[0]][\"normalised_weight\"]\n",
    "            weight_j = graph.nodes[edge[1]][\"normalised_weight\"]\n",
    "            for i in range(weight_i):\n",
    "                for j in range(weight_j):\n",
    "                    dg.add_edges_from([\n",
    "                        (f'{edge[0]}_{i}', f'{edge[1]}_{j}'),\n",
    "                        (f'{edge[1]}_{j}', f'{edge[0]}_{i}')\n",
    "                    ])\n",
    "        else:\n",
    "            weight = graph.nodes[edge[0]][\"normalised_weight\"]\n",
    "            for i in range(weight - 1):\n",
    "                dg.add_edge(\n",
    "                    f'{edge[0]}_{i}', f'{edge[0]}_{i + 1}'\n",
    "                )\n",
    "        \n",
    "    dg.add_node('end_0')\n",
    "    for node in graph.nodes:\n",
    "        try:\n",
    "            if graph.nodes[node][\"start\"] == \"end\":\n",
    "                weight = graph.nodes[node][\"normalised_weight\"]\n",
    "                for i in range(weight):\n",
    "                    dg.add_edge(f'{node}_{i}', 'end_0')\n",
    "                    dg.nodes[f'{node}_{i}'][\"start\"] = \"end\"\n",
    "            elif graph.nodes[node][\"start\"] == \"start\":\n",
    "                dg.nodes[f'{node}_{0}'][\"start\"] = \"start\"\n",
    "        except:\n",
    "            pass\n",
    "    \n",
    "    dg.add_edge('end_0', 'end_0')        \n",
    "    \n",
    "    return dg"
   ]
  },
  {
   "cell_type": "code",
   "execution_count": 7,
   "metadata": {},
   "outputs": [],
   "source": [
    "def get_max_path_problem_qubo_matrix(graph: nx.DiGraph, penalty: int) -> np.ndarray:\n",
    "    \"\"\"Generates a matrix describing the max path problem qubo cost function.\n",
    "    The cost function is C(x) = x^T Q x, where Q is the matrix returned by this function.\n",
    "\n",
    "    Args:\n",
    "        graph (nx.DiGraph): the directed graph describing the max path problem.\n",
    "        penalty (int): the penalty for breaking constraints.\n",
    "\n",
    "    Returns:\n",
    "        np.ndarray: a 2D array Q representing the cost function.\n",
    "    \"\"\"\n",
    "    nodes = list(graph.nodes)\n",
    "    end_node = nodes[-1]\n",
    "    W = len(nodes) - 1\n",
    "    \n",
    "    qubo_matrix = np.zeros(shape=(W+1, W+1, W+1, W+1), dtype=int)\n",
    "    # Reward travelling along real edges\n",
    "    for t in range(W):\n",
    "        for i, j in product(range(W+1), range(W+1)):\n",
    "            if (nodes[i], nodes[j]) not in graph.edges:\n",
    "                qubo_matrix[t, i, t+1, j] += penalty\n",
    "            else:\n",
    "                qubo_matrix[t, i, t+1, j] += -1 if (nodes[i] != end_node and nodes[j] != end_node) else 0\n",
    "    \n",
    "    # Penalise not being in exactly 1 location at each time\n",
    "    for t in range(W+1):\n",
    "        for i in range(W+1):\n",
    "            qubo_matrix[t, i, t, i] -= penalty\n",
    "            for j in range(i+1, W+1):\n",
    "                qubo_matrix[t, i, t, j] += 2 * penalty\n",
    "           \n",
    "    # Penalise multiple visits to a real node     \n",
    "    for i in range(W):\n",
    "        for t1 in range(W+1):\n",
    "            for t2 in range(t1+1, W+1):\n",
    "                qubo_matrix[t1, i, t2, i] += penalty\n",
    "    \n",
    "    # Reward starting at the start\n",
    "    for i in range(W):\n",
    "        try:\n",
    "            if graph.nodes[nodes[i]][\"start\"] == \"start\":\n",
    "                qubo_matrix[0, i, 0, i] -= penalty\n",
    "        except:\n",
    "            pass\n",
    "        \n",
    "    # Reward ending at the end\n",
    "    qubo_matrix[W, W, W, W] -= penalty\n",
    "    \n",
    "    qubo_matrix = qubo_matrix.reshape(((W+1)**2, (W+1)**2))\n",
    "    qubo_matrix = 0.5 * (qubo_matrix + qubo_matrix.T)\n",
    "    \n",
    "    return qubo_matrix\n"
   ]
  },
  {
   "cell_type": "code",
   "execution_count": 8,
   "metadata": {},
   "outputs": [],
   "source": [
    "g = normalise_node_weights(g, 1)\n",
    "dg = graph_to_max_path_digraph(g)\n",
    "W = len(dg.nodes) - 1\n",
    "penalty = W\n",
    "qubo_matrix = get_max_path_problem_qubo_matrix(dg, penalty)"
   ]
  },
  {
   "cell_type": "code",
   "execution_count": 9,
   "metadata": {},
   "outputs": [],
   "source": [
    "def build_hamiltonian(qubo_matrix: np.ndarray):\n",
    "    pauli_list = []\n",
    "    for i in range(qubo_matrix.shape[0]):\n",
    "        for j in range(i, qubo_matrix.shape[1]):\n",
    "            if not qubo_matrix[i, j] == 0:\n",
    "                pauli_op = [\"I\"] * qubo_matrix.shape[0]\n",
    "                pauli_op[i], pauli_op[j] = \"Z\", \"Z\"\n",
    "                pauli_list.append((\"\".join(pauli_op), qubo_matrix[i, j] * (2 if not i == j else 1)))\n",
    "    \n",
    "    b = - sum(qubo_matrix[:, j] + qubo_matrix[j, :].T for j in range(qubo_matrix.shape[0]))\n",
    "    for i in range(b.shape[0]):\n",
    "        if not b[i] == 0:\n",
    "            pauli_op = [\"I\"] * qubo_matrix.shape[0]\n",
    "            pauli_op[i] = \"Z\"\n",
    "            pauli_list.append((\"\".join(pauli_op), b[i]))\n",
    "    \n",
    "    hamiltonian = SparsePauliOp.from_list(pauli_list)\n",
    "    \n",
    "    return hamiltonian"
   ]
  },
  {
   "cell_type": "code",
   "execution_count": 10,
   "metadata": {},
   "outputs": [],
   "source": [
    "H = build_hamiltonian(qubo_matrix)"
   ]
  },
  {
   "cell_type": "code",
   "execution_count": 12,
   "metadata": {},
   "outputs": [],
   "source": [
    "circuit = QAOAAnsatz(cost_operator=H, reps=2, flatten=True)\n",
    "circuit.measure_all()"
   ]
  },
  {
   "cell_type": "code",
   "execution_count": 7,
   "metadata": {},
   "outputs": [],
   "source": []
  },
  {
   "cell_type": "code",
   "execution_count": 9,
   "metadata": {},
   "outputs": [],
   "source": [
    "service = QiskitRuntimeService()\n",
    " \n",
    "# Bell Circuit\n",
    "qc = QuantumCircuit(2)\n",
    "qc.h(0)\n",
    "qc.cx(0, 1)\n",
    "qc.measure_all()\n",
    " \n",
    "# Run the sampler job locally using FakeManilaV2\n",
    "fake_manila = FakeManilaV2()\n",
    "pm = generate_preset_pass_manager(backend=fake_manila, optimization_level=1)\n",
    "isa_qc = pm.run(qc)\n",
    " \n",
    "# You can use a fixed seed to get fixed results.\n",
    "options = {\"simulator\": {\"seed_simulator\": 42}}\n",
    "sampler = Sampler(mode=fake_manila, options=options)\n",
    " \n",
    "result = sampler.run([isa_qc]).result()"
   ]
  },
  {
   "cell_type": "code",
   "execution_count": 28,
   "metadata": {},
   "outputs": [
    {
     "ename": "ValueError",
     "evalue": "The input array must have at least two axes.",
     "output_type": "error",
     "traceback": [
      "\u001b[0;31m---------------------------------------------------------------------------\u001b[0m",
      "\u001b[0;31mValueError\u001b[0m                                Traceback (most recent call last)",
      "Cell \u001b[0;32mIn[28], line 1\u001b[0m\n\u001b[0;32m----> 1\u001b[0m \u001b[38;5;28mprint\u001b[39m(\u001b[38;5;28;43mlist\u001b[39;49m\u001b[43m(\u001b[49m\u001b[43mresult\u001b[49m\u001b[43m[\u001b[49m\u001b[38;5;241;43m0\u001b[39;49m\u001b[43m]\u001b[49m\u001b[38;5;241;43m.\u001b[39;49m\u001b[43mdata\u001b[49m\u001b[38;5;241;43m.\u001b[39;49m\u001b[43mmeas\u001b[49m\u001b[43m)\u001b[49m)\n",
      "File \u001b[0;32m~/anaconda3/envs/pangenome/lib/python3.11/site-packages/qiskit/primitives/containers/bit_array.py:138\u001b[0m, in \u001b[0;36mBitArray.__getitem__\u001b[0;34m(self, indices)\u001b[0m\n\u001b[1;32m    134\u001b[0m \u001b[38;5;28;01mif\u001b[39;00m \u001b[38;5;28misinstance\u001b[39m(indices, \u001b[38;5;28mtuple\u001b[39m) \u001b[38;5;129;01mand\u001b[39;00m \u001b[38;5;28mlen\u001b[39m(indices) \u001b[38;5;241m>\u001b[39m\u001b[38;5;241m=\u001b[39m \u001b[38;5;28mself\u001b[39m\u001b[38;5;241m.\u001b[39mndim \u001b[38;5;241m+\u001b[39m \u001b[38;5;241m2\u001b[39m:\n\u001b[1;32m    135\u001b[0m     \u001b[38;5;28;01mraise\u001b[39;00m \u001b[38;5;167;01mValueError\u001b[39;00m(\n\u001b[1;32m    136\u001b[0m         \u001b[38;5;124m\"\u001b[39m\u001b[38;5;124mBitArrays cannot be sliced along the bits axis, see slice_bits() instead.\u001b[39m\u001b[38;5;124m\"\u001b[39m\n\u001b[1;32m    137\u001b[0m     )\n\u001b[0;32m--> 138\u001b[0m \u001b[38;5;28;01mreturn\u001b[39;00m \u001b[43mBitArray\u001b[49m\u001b[43m(\u001b[49m\u001b[38;5;28;43mself\u001b[39;49m\u001b[38;5;241;43m.\u001b[39;49m\u001b[43m_array\u001b[49m\u001b[43m[\u001b[49m\u001b[43mindices\u001b[49m\u001b[43m]\u001b[49m\u001b[43m,\u001b[49m\u001b[43m \u001b[49m\u001b[38;5;28;43mself\u001b[39;49m\u001b[38;5;241;43m.\u001b[39;49m\u001b[43mnum_bits\u001b[49m\u001b[43m)\u001b[49m\n",
      "File \u001b[0;32m~/anaconda3/envs/pangenome/lib/python3.11/site-packages/qiskit/primitives/containers/bit_array.py:85\u001b[0m, in \u001b[0;36mBitArray.__init__\u001b[0;34m(self, array, num_bits)\u001b[0m\n\u001b[1;32m     83\u001b[0m     \u001b[38;5;28;01mraise\u001b[39;00m \u001b[38;5;167;01mTypeError\u001b[39;00m(\u001b[38;5;124mf\u001b[39m\u001b[38;5;124m\"\u001b[39m\u001b[38;5;124mInput array must have dtype uint8, not \u001b[39m\u001b[38;5;132;01m{\u001b[39;00marray\u001b[38;5;241m.\u001b[39mdtype\u001b[38;5;132;01m}\u001b[39;00m\u001b[38;5;124m.\u001b[39m\u001b[38;5;124m\"\u001b[39m)\n\u001b[1;32m     84\u001b[0m \u001b[38;5;28;01mif\u001b[39;00m array\u001b[38;5;241m.\u001b[39mndim \u001b[38;5;241m<\u001b[39m \u001b[38;5;241m2\u001b[39m:\n\u001b[0;32m---> 85\u001b[0m     \u001b[38;5;28;01mraise\u001b[39;00m \u001b[38;5;167;01mValueError\u001b[39;00m(\u001b[38;5;124m\"\u001b[39m\u001b[38;5;124mThe input array must have at least two axes.\u001b[39m\u001b[38;5;124m\"\u001b[39m)\n\u001b[1;32m     86\u001b[0m \u001b[38;5;28;01mif\u001b[39;00m array\u001b[38;5;241m.\u001b[39mshape[\u001b[38;5;241m-\u001b[39m\u001b[38;5;241m1\u001b[39m] \u001b[38;5;241m!=\u001b[39m (expected \u001b[38;5;241m:=\u001b[39m _min_num_bytes(num_bits)):\n\u001b[1;32m     87\u001b[0m     \u001b[38;5;28;01mraise\u001b[39;00m \u001b[38;5;167;01mValueError\u001b[39;00m(\u001b[38;5;124mf\u001b[39m\u001b[38;5;124m\"\u001b[39m\u001b[38;5;124mThe input array is expected to have \u001b[39m\u001b[38;5;132;01m{\u001b[39;00mexpected\u001b[38;5;132;01m}\u001b[39;00m\u001b[38;5;124m bytes per shot.\u001b[39m\u001b[38;5;124m\"\u001b[39m)\n",
      "\u001b[0;31mValueError\u001b[0m: The input array must have at least two axes."
     ]
    }
   ],
   "source": [
    "print(list(result[0].data.meas))"
   ]
  },
  {
   "cell_type": "code",
   "execution_count": null,
   "metadata": {},
   "outputs": [],
   "source": []
  }
 ],
 "metadata": {
  "kernelspec": {
   "display_name": "pangenome",
   "language": "python",
   "name": "python3"
  },
  "language_info": {
   "codemirror_mode": {
    "name": "ipython",
    "version": 3
   },
   "file_extension": ".py",
   "mimetype": "text/x-python",
   "name": "python",
   "nbconvert_exporter": "python",
   "pygments_lexer": "ipython3",
   "version": "3.11.7"
  }
 },
 "nbformat": 4,
 "nbformat_minor": 2
}
