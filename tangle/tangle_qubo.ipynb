{
 "cells": [
  {
   "cell_type": "code",
   "execution_count": 1,
   "metadata": {},
   "outputs": [],
   "source": [
    "import networkx as nx\n",
    "import numpy as np\n",
    "import matplotlib.pyplot as plt\n",
    "import gfapy\n",
    "from dimod.reference.samplers import SimulatedAnnealingSampler\n",
    "from dimod import BinaryQuadraticModel\n",
    "from dwave.system import LeapHybridSampler"
   ]
  },
  {
   "cell_type": "code",
   "execution_count": 2,
   "metadata": {},
   "outputs": [],
   "source": [
    "g = nx.DiGraph()\n",
    "g.add_nodes_from([\n",
    "    (0, {\"weight\": 1}),\n",
    "    (1, {\"weight\": 1}),\n",
    "    (2, {\"weight\": 1}),\n",
    "    (3, {\"weight\": 1}),\n",
    "    (4, {\"weight\": 1}),\n",
    "    # (5, {\"weight\": 1}),\n",
    "])\n",
    "g.add_edges_from([\n",
    "    (0, 1),\n",
    "    (1, 2),\n",
    "    (1, 3),\n",
    "    (1, 4),\n",
    "    (2, 1),\n",
    "    (2, 3),\n",
    "    (2, 4),\n",
    "    (3, 1),\n",
    "    (3, 2),\n",
    "    (3, 4),\n",
    "])"
   ]
  },
  {
   "cell_type": "code",
   "execution_count": 3,
   "metadata": {},
   "outputs": [
    {
     "data": {
      "image/png": "[encoded data removed]",
      "text/plain": [
       "<Figure size 432x288 with 1 Axes>"
      ]
     },
     "metadata": {},
     "output_type": "display_data"
    }
   ],
   "source": [
    "subax1 = plt.subplot(121)\n",
    "nx.draw(g, with_labels=True, font_weight='bold')"
   ]
  },
  {
   "cell_type": "code",
   "execution_count": 4,
   "metadata": {},
   "outputs": [],
   "source": [
    "def setup_graph(graph, t_max):\n",
    "    graph_copy = nx.DiGraph(graph)\n",
    "    # Add virtual node to allow early finishes\n",
    "    graph_copy.add_nodes_from(\n",
    "        [(len(list(graph.nodes)), {\"weight\": t_max})],\n",
    "    )    \n",
    "    nodes = list(graph_copy.nodes)\n",
    "    graph_copy.add_edges_from([\n",
    "        (nodes[-1], nodes[-1]),\n",
    "        (nodes[-2], nodes[-1])\n",
    "    ])\n",
    "    edges = list(graph_copy.edges)\n",
    "    return graph_copy, nodes, edges"
   ]
  },
  {
   "cell_type": "code",
   "execution_count": 5,
   "metadata": {},
   "outputs": [],
   "source": [
    "def tangle_problem_bqm(graph: nx.Graph, lamda, mu) -> BinaryQuadraticModel:\n",
    "    \"\"\"Returns a Binary Quadratic Model for the tangle problem.\n",
    "    \n",
    "    The tangle problem is to find the longest path through a node-weighted graph, where any node can be visited at most its weight many times.\n",
    "\n",
    "    Args:\n",
    "        graph (nx.Graph): the node-weighted graph which underlies the tangle problem\n",
    "    \"\"\"\n",
    "    bqm = BinaryQuadraticModel({}, {}, 0, \"BINARY\")\n",
    "    P = 10\n",
    "    t_max = sum(graph.nodes.data()[i][\"weight\"] for i in range(len(graph.nodes))) + 1\n",
    "    \n",
    "    new_graph, nodes, edges = setup_graph(graph, t_max)\n",
    "    \n",
    "    # Reward travelling along true edges; penalise travelling not along edges\n",
    "    for t in range(t_max - 1):\n",
    "        for i in range(len(nodes)):        \n",
    "            for j in range(len(nodes)):\n",
    "                bqm.add_interaction(\n",
    "                    (i, t), \n",
    "                    (j, t + 1), \n",
    "                    -1 if ((i, j) in edges) else P\n",
    "                )\n",
    "        # Travelling the virtual edges should not be rewarded\n",
    "        bqm.add_interaction((nodes[-2], t), (nodes[-1], t + 1), 1)\n",
    "        bqm.add_interaction((nodes[-1], t), (nodes[-1], t + 1), 1)\n",
    "    \n",
    "    # Penalise not starting at start or ending at end\n",
    "    bqm.add_linear((nodes[0], 0), -P)\n",
    "    bqm.add_linear((nodes[-1], t_max - 1), -P)\n",
    "    bqm.offset += 2 * P\n",
    "    \n",
    "    # Penalise multiple locations at one time\n",
    "    for t in range(t_max):\n",
    "        bqm.offset += P\n",
    "        for i in range(len(nodes)): \n",
    "            bqm.add_linear((i, t), -P)\n",
    "            for j in range(i):\n",
    "                bqm.add_interaction((i, t), (j, t), 2 * P) \n",
    "                \n",
    "    # Generalised Lagrangian Penalties\n",
    "    for i in range(len(nodes) - 1):\n",
    "        weight = new_graph.nodes.data()[i][\"weight\"]\n",
    "        bqm.offset += mu / 2 * weight ** 2 - lamda[i] * weight\n",
    "        for t in range(t_max):\n",
    "            bqm.add_linear((i, t), mu / 2 * (1 - 2 * weight) + lamda[i])\n",
    "            for t2 in range(t):\n",
    "                bqm.add_interaction(\n",
    "                    (i, t),\n",
    "                    (i, t2),\n",
    "                    mu\n",
    "                )\n",
    "    \n",
    "    return bqm\n",
    "    "
   ]
  },
  {
   "cell_type": "code",
   "execution_count": 6,
   "metadata": {},
   "outputs": [],
   "source": [
    "def get_path(sample):\n",
    "    return sorted([i for i in list(sample.keys()) if sample[i]], key=lambda e: e[1])"
   ]
  },
  {
   "cell_type": "code",
   "execution_count": 7,
   "metadata": {},
   "outputs": [],
   "source": [
    "def sample_tangle_problem(graph, sampler, lamda, mu):\n",
    "    bqm = tangle_problem_bqm(graph, lamda, mu)\n",
    "    sampleset = sampler.sample(bqm, num_reads=30)\n",
    "    best_sample = sampleset.first.sample\n",
    "    best_energy = sampleset.first.energy\n",
    "    return best_sample, best_energy"
   ]
  },
  {
   "cell_type": "code",
   "execution_count": 8,
   "metadata": {},
   "outputs": [],
   "source": [
    "def get_node_visits(sample):\n",
    "    path = get_path(sample)\n",
    "    node_visits = {x : 0 for x in list(g.nodes)}\n",
    "    node_visits[len(list(g.nodes))] = 0\n",
    "    for path_node in path:\n",
    "        node_visits[path_node[0]] += 1\n",
    "        \n",
    "    return node_visits"
   ]
  },
  {
   "cell_type": "code",
   "execution_count": 9,
   "metadata": {},
   "outputs": [],
   "source": [
    "def get_constraint_values(node_visits, graph):\n",
    "    constraint_values = np.array([node_visits[x] - graph.nodes.data()[x]['weight'] for x in list(graph.nodes)])\n",
    "    return constraint_values"
   ]
  },
  {
   "cell_type": "code",
   "execution_count": 10,
   "metadata": {},
   "outputs": [],
   "source": [
    "def tangle_problem_iteration(graph, sampler, lamda, mu):\n",
    "    best_sample, best_energy = sample_tangle_problem(graph, sampler, lamda, mu)\n",
    "    node_visits = get_node_visits(best_sample)\n",
    "    constraint_values = get_constraint_values(node_visits, graph)\n",
    "    return best_sample, best_energy, constraint_values"
   ]
  },
  {
   "cell_type": "code",
   "execution_count": 11,
   "metadata": {},
   "outputs": [],
   "source": [
    "def tangle_problem(graph, sampler=None, lamda=np.array([0] * len(list(g.nodes)), dtype=float), mu=0.5):\n",
    "    \"\"\"Solve the tangle problem using the generalised Lagrangian method.\n",
    "\n",
    "    Args:\n",
    "        graph: node-weighted graph underlying the tangle problem.\n",
    "        sampler (SamplerABCMeta, optional): The sampler to use. Defaults to None.\n",
    "        lamda (np.ndarray, optional): Initial values for the linear Lagrangian terms. Defaults to [0]*len(list(g.nodes)).\n",
    "        mu (int, optional): Initial value for the quadratic Lagrangian terms. Defaults to 0.5.\n",
    "\n",
    "    Returns:\n",
    "        (dict, float64, list, float): Returns the best variable assignment and the corresponding energy as well as the lagrangian variable values.\n",
    "    \"\"\"\n",
    "    if sampler is None:\n",
    "        sampler = SimulatedAnnealingSampler()\n",
    "        \n",
    "    best_sample, best_energy, constraint_values = tangle_problem_iteration(graph, sampler, lamda, mu)\n",
    "    print(f'Best path={get_path(best_sample)}\\nBest energy={best_energy}\\nConstraint values={constraint_values}\\n')\n",
    "    while not all(constraint_values <= 0):\n",
    "        lamda += (constraint_values > 0) * mu * constraint_values\n",
    "        mu *= 1.1\n",
    "        \n",
    "        best_sample, best_energy, constraint_values = tangle_problem_iteration(graph, sampler, lamda, mu)\n",
    "        print(f'Best path={get_path(best_sample)}\\nBest energy={best_energy}\\nConstraint values={constraint_values}\\n')\n",
    "\n",
    "    return best_sample, best_energy, lamda, mu"
   ]
  },
  {
   "cell_type": "code",
   "execution_count": 12,
   "metadata": {},
   "outputs": [
    {
     "name": "stdout",
     "output_type": "stream",
     "text": [
      "Best path=[(0, 0), (1, 1), (2, 2), (3, 3), (4, 4), (5, 5)]\n",
      "Best energy=-4.0\n",
      "Constraint values=[0 0 0 0 0]\n",
      "\n"
     ]
    }
   ],
   "source": [
    "tangle_sample, tangle_energy, lamda, mu = tangle_problem(g)"
   ]
  },
  {
   "cell_type": "code",
   "execution_count": 13,
   "metadata": {},
   "outputs": [],
   "source": [
    "p = get_path(tangle_sample)\n",
    "c = get_constraint_values(get_node_visits(tangle_sample), g)"
   ]
  },
  {
   "cell_type": "code",
   "execution_count": 20,
   "metadata": {},
   "outputs": [
    {
     "data": {
      "text/plain": [
       "{((0, 1), (0, 0)): 10.5, ((1, 1), (0, 0)): -1.0, ((1, 1), (0, 1)): 20.0, ((2, 1), (0, 0)): 10.0, ((2, 1), (0, 1)): 20.0, ((2, 1), (1, 1)): 20.0, ((3, 1), (0, 0)): 10.0, ((3, 1), (0, 1)): 20.0, ((3, 1), (1, 1)): 20.0, ((3, 1), (2, 1)): 20.0, ((4, 1), (0, 0)): 10.0, ((4, 1), (0, 1)): 20.0, ((4, 1), (1, 1)): 20.0, ((4, 1), (2, 1)): 20.0, ((4, 1), (3, 1)): 20.0, ((5, 1), (0, 0)): 10.0, ((5, 1), (0, 1)): 20.0, ((5, 1), (1, 1)): 20.0, ((5, 1), (2, 1)): 20.0, ((5, 1), (3, 1)): 20.0, ((5, 1), (4, 1)): 20.0, ((1, 0), (0, 0)): 20.0, ((1, 0), (0, 1)): 10.0, ((1, 0), (1, 1)): 10.5, ((1, 0), (2, 1)): -1.0, ((1, 0), (3, 1)): -1.0, ((1, 0), (4, 1)): -1.0, ((1, 0), (5, 1)): 10.0, ((2, 0), (0, 0)): 20.0, ((2, 0), (0, 1)): 10.0, ((2, 0), (1, 1)): -1.0, ((2, 0), (2, 1)): 10.5, ((2, 0), (3, 1)): -1.0, ((2, 0), (4, 1)): -1.0, ((2, 0), (5, 1)): 10.0, ((2, 0), (1, 0)): 20.0, ((3, 0), (0, 0)): 20.0, ((3, 0), (0, 1)): 10.0, ((3, 0), (1, 1)): -1.0, ((3, 0), (2, 1)): -1.0, ((3, 0), (3, 1)): 10.5, ((3, 0), (4, 1)): -1.0, ((3, 0), (5, 1)): 10.0, ((3, 0), (1, 0)): 20.0, ((3, 0), (2, 0)): 20.0, ((4, 0), (0, 0)): 20.0, ((4, 0), (0, 1)): 10.0, ((4, 0), (1, 1)): 10.0, ((4, 0), (2, 1)): 10.0, ((4, 0), (3, 1)): 10.0, ((4, 0), (4, 1)): 10.5, ((4, 0), (5, 1)): 0.0, ((4, 0), (1, 0)): 20.0, ((4, 0), (2, 0)): 20.0, ((4, 0), (3, 0)): 20.0, ((5, 0), (0, 0)): 20.0, ((5, 0), (0, 1)): 10.0, ((5, 0), (1, 1)): 10.0, ((5, 0), (2, 1)): 10.0, ((5, 0), (3, 1)): 10.0, ((5, 0), (4, 1)): 10.0, ((5, 0), (5, 1)): 0.0, ((5, 0), (1, 0)): 20.0, ((5, 0), (2, 0)): 20.0, ((5, 0), (3, 0)): 20.0, ((5, 0), (4, 0)): 20.0, ((0, 2), (0, 0)): 0.5, ((0, 2), (0, 1)): 10.5, ((0, 2), (1, 1)): 10.0, ((0, 2), (2, 1)): 10.0, ((0, 2), (3, 1)): 10.0, ((0, 2), (4, 1)): 10.0, ((0, 2), (5, 1)): 10.0, ((1, 2), (0, 1)): -1.0, ((1, 2), (1, 1)): 10.5, ((1, 2), (2, 1)): -1.0, ((1, 2), (3, 1)): -1.0, ((1, 2), (4, 1)): 10.0, ((1, 2), (5, 1)): 10.0, ((1, 2), (1, 0)): 0.5, ((1, 2), (0, 2)): 20.0, ((2, 2), (0, 1)): 10.0, ((2, 2), (1, 1)): -1.0, ((2, 2), (2, 1)): 10.5, ((2, 2), (3, 1)): -1.0, ((2, 2), (4, 1)): 10.0, ((2, 2), (5, 1)): 10.0, ((2, 2), (2, 0)): 0.5, ((2, 2), (0, 2)): 20.0, ((2, 2), (1, 2)): 20.0, ((3, 2), (0, 1)): 10.0, ((3, 2), (1, 1)): -1.0, ((3, 2), (2, 1)): -1.0, ((3, 2), (3, 1)): 10.5, ((3, 2), (4, 1)): 10.0, ((3, 2), (5, 1)): 10.0, ((3, 2), (3, 0)): 0.5, ((3, 2), (0, 2)): 20.0, ((3, 2), (1, 2)): 20.0, ((3, 2), (2, 2)): 20.0, ((4, 2), (0, 1)): 10.0, ((4, 2), (1, 1)): -1.0, ((4, 2), (2, 1)): -1.0, ((4, 2), (3, 1)): -1.0, ((4, 2), (4, 1)): 10.5, ((4, 2), (5, 1)): 10.0, ((4, 2), (4, 0)): 0.5, ((4, 2), (0, 2)): 20.0, ((4, 2), (1, 2)): 20.0, ((4, 2), (2, 2)): 20.0, ((4, 2), (3, 2)): 20.0, ((5, 2), (0, 1)): 10.0, ((5, 2), (1, 1)): 10.0, ((5, 2), (2, 1)): 10.0, ((5, 2), (3, 1)): 10.0, ((5, 2), (4, 1)): 0.0, ((5, 2), (5, 1)): 0.0, ((5, 2), (0, 2)): 20.0, ((5, 2), (1, 2)): 20.0, ((5, 2), (2, 2)): 20.0, ((5, 2), (3, 2)): 20.0, ((5, 2), (4, 2)): 20.0, ((0, 3), (0, 0)): 0.5, ((0, 3), (0, 1)): 0.5, ((0, 3), (0, 2)): 10.5, ((0, 3), (1, 2)): 10.0, ((0, 3), (2, 2)): 10.0, ((0, 3), (3, 2)): 10.0, ((0, 3), (4, 2)): 10.0, ((0, 3), (5, 2)): 10.0, ((1, 3), (1, 1)): 0.5, ((1, 3), (1, 0)): 0.5, ((1, 3), (0, 2)): -1.0, ((1, 3), (1, 2)): 10.5, ((1, 3), (2, 2)): -1.0, ((1, 3), (3, 2)): -1.0, ((1, 3), (4, 2)): 10.0, ((1, 3), (5, 2)): 10.0, ((1, 3), (0, 3)): 20.0, ((2, 3), (2, 1)): 0.5, ((2, 3), (2, 0)): 0.5, ((2, 3), (0, 2)): 10.0, ((2, 3), (1, 2)): -1.0, ((2, 3), (2, 2)): 10.5, ((2, 3), (3, 2)): -1.0, ((2, 3), (4, 2)): 10.0, ((2, 3), (5, 2)): 10.0, ((2, 3), (0, 3)): 20.0, ((2, 3), (1, 3)): 20.0, ((3, 3), (3, 1)): 0.5, ((3, 3), (3, 0)): 0.5, ((3, 3), (0, 2)): 10.0, ((3, 3), (1, 2)): -1.0, ((3, 3), (2, 2)): -1.0, ((3, 3), (3, 2)): 10.5, ((3, 3), (4, 2)): 10.0, ((3, 3), (5, 2)): 10.0, ((3, 3), (0, 3)): 20.0, ((3, 3), (1, 3)): 20.0, ((3, 3), (2, 3)): 20.0, ((4, 3), (4, 1)): 0.5, ((4, 3), (4, 0)): 0.5, ((4, 3), (0, 2)): 10.0, ((4, 3), (1, 2)): -1.0, ((4, 3), (2, 2)): -1.0, ((4, 3), (3, 2)): -1.0, ((4, 3), (4, 2)): 10.5, ((4, 3), (5, 2)): 10.0, ((4, 3), (0, 3)): 20.0, ((4, 3), (1, 3)): 20.0, ((4, 3), (2, 3)): 20.0, ((4, 3), (3, 3)): 20.0, ((5, 3), (0, 2)): 10.0, ((5, 3), (1, 2)): 10.0, ((5, 3), (2, 2)): 10.0, ((5, 3), (3, 2)): 10.0, ((5, 3), (4, 2)): 0.0, ((5, 3), (5, 2)): 0.0, ((5, 3), (0, 3)): 20.0, ((5, 3), (1, 3)): 20.0, ((5, 3), (2, 3)): 20.0, ((5, 3), (3, 3)): 20.0, ((5, 3), (4, 3)): 20.0, ((0, 4), (0, 0)): 0.5, ((0, 4), (0, 1)): 0.5, ((0, 4), (0, 2)): 0.5, ((0, 4), (0, 3)): 10.5, ((0, 4), (1, 3)): 10.0, ((0, 4), (2, 3)): 10.0, ((0, 4), (3, 3)): 10.0, ((0, 4), (4, 3)): 10.0, ((0, 4), (5, 3)): 10.0, ((1, 4), (1, 1)): 0.5, ((1, 4), (1, 0)): 0.5, ((1, 4), (1, 2)): 0.5, ((1, 4), (0, 3)): -1.0, ((1, 4), (1, 3)): 10.5, ((1, 4), (2, 3)): -1.0, ((1, 4), (3, 3)): -1.0, ((1, 4), (4, 3)): 10.0, ((1, 4), (5, 3)): 10.0, ((1, 4), (0, 4)): 20.0, ((2, 4), (2, 1)): 0.5, ((2, 4), (2, 0)): 0.5, ((2, 4), (2, 2)): 0.5, ((2, 4), (0, 3)): 10.0, ((2, 4), (1, 3)): -1.0, ((2, 4), (2, 3)): 10.5, ((2, 4), (3, 3)): -1.0, ((2, 4), (4, 3)): 10.0, ((2, 4), (5, 3)): 10.0, ((2, 4), (0, 4)): 20.0, ((2, 4), (1, 4)): 20.0, ((3, 4), (3, 1)): 0.5, ((3, 4), (3, 0)): 0.5, ((3, 4), (3, 2)): 0.5, ((3, 4), (0, 3)): 10.0, ((3, 4), (1, 3)): -1.0, ((3, 4), (2, 3)): -1.0, ((3, 4), (3, 3)): 10.5, ((3, 4), (4, 3)): 10.0, ((3, 4), (5, 3)): 10.0, ((3, 4), (0, 4)): 20.0, ((3, 4), (1, 4)): 20.0, ((3, 4), (2, 4)): 20.0, ((4, 4), (4, 1)): 0.5, ((4, 4), (4, 0)): 0.5, ((4, 4), (4, 2)): 0.5, ((4, 4), (0, 3)): 10.0, ((4, 4), (1, 3)): -1.0, ((4, 4), (2, 3)): -1.0, ((4, 4), (3, 3)): -1.0, ((4, 4), (4, 3)): 10.5, ((4, 4), (5, 3)): 10.0, ((4, 4), (0, 4)): 20.0, ((4, 4), (1, 4)): 20.0, ((4, 4), (2, 4)): 20.0, ((4, 4), (3, 4)): 20.0, ((5, 4), (0, 3)): 10.0, ((5, 4), (1, 3)): 10.0, ((5, 4), (2, 3)): 10.0, ((5, 4), (3, 3)): 10.0, ((5, 4), (4, 3)): 0.0, ((5, 4), (5, 3)): 0.0, ((5, 4), (0, 4)): 20.0, ((5, 4), (1, 4)): 20.0, ((5, 4), (2, 4)): 20.0, ((5, 4), (3, 4)): 20.0, ((5, 4), (4, 4)): 20.0, ((0, 5), (0, 0)): 0.5, ((0, 5), (0, 1)): 0.5, ((0, 5), (0, 2)): 0.5, ((0, 5), (0, 3)): 0.5, ((0, 5), (0, 4)): 10.5, ((0, 5), (1, 4)): 10.0, ((0, 5), (2, 4)): 10.0, ((0, 5), (3, 4)): 10.0, ((0, 5), (4, 4)): 10.0, ((0, 5), (5, 4)): 10.0, ((1, 5), (1, 1)): 0.5, ((1, 5), (1, 0)): 0.5, ((1, 5), (1, 2)): 0.5, ((1, 5), (1, 3)): 0.5, ((1, 5), (0, 4)): -1.0, ((1, 5), (1, 4)): 10.5, ((1, 5), (2, 4)): -1.0, ((1, 5), (3, 4)): -1.0, ((1, 5), (4, 4)): 10.0, ((1, 5), (5, 4)): 10.0, ((1, 5), (0, 5)): 20.0, ((2, 5), (2, 1)): 0.5, ((2, 5), (2, 0)): 0.5, ((2, 5), (2, 2)): 0.5, ((2, 5), (2, 3)): 0.5, ((2, 5), (0, 4)): 10.0, ((2, 5), (1, 4)): -1.0, ((2, 5), (2, 4)): 10.5, ((2, 5), (3, 4)): -1.0, ((2, 5), (4, 4)): 10.0, ((2, 5), (5, 4)): 10.0, ((2, 5), (0, 5)): 20.0, ((2, 5), (1, 5)): 20.0, ((3, 5), (3, 1)): 0.5, ((3, 5), (3, 0)): 0.5, ((3, 5), (3, 2)): 0.5, ((3, 5), (3, 3)): 0.5, ((3, 5), (0, 4)): 10.0, ((3, 5), (1, 4)): -1.0, ((3, 5), (2, 4)): -1.0, ((3, 5), (3, 4)): 10.5, ((3, 5), (4, 4)): 10.0, ((3, 5), (5, 4)): 10.0, ((3, 5), (0, 5)): 20.0, ((3, 5), (1, 5)): 20.0, ((3, 5), (2, 5)): 20.0, ((4, 5), (4, 1)): 0.5, ((4, 5), (4, 0)): 0.5, ((4, 5), (4, 2)): 0.5, ((4, 5), (4, 3)): 0.5, ((4, 5), (0, 4)): 10.0, ((4, 5), (1, 4)): -1.0, ((4, 5), (2, 4)): -1.0, ((4, 5), (3, 4)): -1.0, ((4, 5), (4, 4)): 10.5, ((4, 5), (5, 4)): 10.0, ((4, 5), (0, 5)): 20.0, ((4, 5), (1, 5)): 20.0, ((4, 5), (2, 5)): 20.0, ((4, 5), (3, 5)): 20.0, ((5, 5), (0, 4)): 10.0, ((5, 5), (1, 4)): 10.0, ((5, 5), (2, 4)): 10.0, ((5, 5), (3, 4)): 10.0, ((5, 5), (4, 4)): 0.0, ((5, 5), (5, 4)): 0.0, ((5, 5), (0, 5)): 20.0, ((5, 5), (1, 5)): 20.0, ((5, 5), (2, 5)): 20.0, ((5, 5), (3, 5)): 20.0, ((5, 5), (4, 5)): 20.0}"
      ]
     },
     "execution_count": 20,
     "metadata": {},
     "output_type": "execute_result"
    }
   ],
   "source": [
    "bqm_test = tangle_problem_bqm(g, np.array([0] * len(list(g.nodes))), 0.5)\n",
    "sample_like = {var : 0 for var in bqm_test.variables}\n",
    "opt_path = [(0, 0), (1, 1), (2, 2), (1, 3), (3, 4), (1, 5), (4, 6), (5, 7), (5, 8)]\n",
    "for node in opt_path:\n",
    "    sample_like[node] = 1\n",
    "\n",
    "e = bqm_test.energy(sample_like)\n",
    "nv = get_node_visits(sample_like)\n",
    "cv = get_constraint_values(nv, g)\n",
    "bqm_test.quadratic"
   ]
  },
  {
   "cell_type": "code",
   "execution_count": 15,
   "metadata": {},
   "outputs": [
    {
     "data": {
      "text/plain": [
       "Variables([(0, 0), (0, 1), (1, 1), (2, 1), (3, 1), (4, 1), (5, 1), (1, 0), (2, 0), (3, 0), (4, 0), (5, 0), (0, 2), (1, 2), (2, 2), (3, 2), (4, 2), (5, 2), (0, 3), (1, 3), (2, 3), (3, 3), (4, 3), (5, 3), (0, 4), (1, 4), (2, 4), (3, 4), (4, 4), (5, 4), (0, 5), (1, 5), (2, 5), (3, 5), (4, 5), (5, 5)])"
      ]
     },
     "execution_count": 15,
     "metadata": {},
     "output_type": "execute_result"
    }
   ],
   "source": [
    "bqm_test.variables"
   ]
  },
  {
   "cell_type": "code",
   "execution_count": 16,
   "metadata": {},
   "outputs": [],
   "source": [
    "# hybrid_sampler = LeapHybridSampler()\n",
    "# q_sample = hybrid_sampler.sample(bqm_test)\n",
    "# q_best = q_sample.first.sample\n",
    "# q_energy = q_sample.first.energy\n",
    "# q_path = get_path(q_best)\n",
    "\n",
    "# for i in range(len(q_path) - 1):\n",
    "#     print(bqm_test.get_quadratic(q_path[i], q_path[i+1]))\n",
    "\n",
    "# q_constraints = get_constraint_values(get_node_visits(q_best), g)"
   ]
  },
  {
   "cell_type": "code",
   "execution_count": 17,
   "metadata": {},
   "outputs": [],
   "source": [
    "filename = \"../tangle/data/mafft+cons_clean.gfa\""
   ]
  },
  {
   "cell_type": "code",
   "execution_count": 18,
   "metadata": {},
   "outputs": [],
   "source": [
    "def graph_from_file(filename):\n",
    "    gfa = gfapy.Gfa.from_file(filename)\n",
    "    digraph = nx.DiGraph()\n",
    "    for segment_line in gfa.segments:\n",
    "        digraph.add_node(segment_line.name, sequence=segment_line.sequence)\n",
    "    for edge_line in gfa.edges:\n",
    "        digraph.add_edges_from([\n",
    "            (edge_line.sid1.name, edge_line.sid2.name),\n",
    "            (edge_line.sid2.name, edge_line.sid1.name),\n",
    "        ])\n",
    "    return digraph\n",
    "    "
   ]
  },
  {
   "cell_type": "code",
   "execution_count": 19,
   "metadata": {},
   "outputs": [
    {
     "ename": "NameError",
     "evalue": "name 'digraph_from_file' is not defined",
     "output_type": "error",
     "traceback": [
      "\u001b[0;31m---------------------------------------------------------------------------\u001b[0m",
      "\u001b[0;31mNameError\u001b[0m                                 Traceback (most recent call last)",
      "\u001b[0;32m<ipython-input-19-df47351c469e>\u001b[0m in \u001b[0;36m<module>\u001b[0;34m\u001b[0m\n\u001b[0;32m----> 1\u001b[0;31m \u001b[0mdi\u001b[0m \u001b[0;34m=\u001b[0m \u001b[0mdigraph_from_file\u001b[0m\u001b[0;34m(\u001b[0m\u001b[0mfilename\u001b[0m\u001b[0;34m)\u001b[0m\u001b[0;34m\u001b[0m\u001b[0;34m\u001b[0m\u001b[0m\n\u001b[0m\u001b[1;32m      2\u001b[0m \u001b[0mdi\u001b[0m\u001b[0;34m.\u001b[0m\u001b[0medges\u001b[0m\u001b[0;34m.\u001b[0m\u001b[0mdata\u001b[0m\u001b[0;34m(\u001b[0m\u001b[0;34m)\u001b[0m\u001b[0;34m\u001b[0m\u001b[0;34m\u001b[0m\u001b[0m\n\u001b[1;32m      3\u001b[0m \u001b[0msubax1\u001b[0m \u001b[0;34m=\u001b[0m \u001b[0mplt\u001b[0m\u001b[0;34m.\u001b[0m\u001b[0mplot\u001b[0m\u001b[0;34m(\u001b[0m\u001b[0;34m)\u001b[0m\u001b[0;34m\u001b[0m\u001b[0;34m\u001b[0m\u001b[0m\n\u001b[1;32m      4\u001b[0m \u001b[0mnx\u001b[0m\u001b[0;34m.\u001b[0m\u001b[0mdraw\u001b[0m\u001b[0;34m(\u001b[0m\u001b[0mdi\u001b[0m\u001b[0;34m,\u001b[0m \u001b[0mwith_labels\u001b[0m\u001b[0;34m=\u001b[0m\u001b[0;32mTrue\u001b[0m\u001b[0;34m)\u001b[0m\u001b[0;34m\u001b[0m\u001b[0;34m\u001b[0m\u001b[0m\n",
      "\u001b[0;31mNameError\u001b[0m: name 'digraph_from_file' is not defined"
     ]
    }
   ],
   "source": [
    "di = digraph_from_file(filename)\n",
    "di.edges.data()\n",
    "subax1 = plt.plot()\n",
    "nx.draw(di, with_labels=True)"
   ]
  },
  {
   "cell_type": "code",
   "execution_count": null,
   "metadata": {},
   "outputs": [
    {
     "data": {
      "text/plain": [
       "1"
      ]
     },
     "execution_count": 34,
     "metadata": {},
     "output_type": "execute_result"
    }
   ],
   "source": [
    "list(di.nodes)[0]"
   ]
  },
  {
   "cell_type": "code",
   "execution_count": null,
   "metadata": {},
   "outputs": [],
   "source": [
    "def gfa_to_di_graph(filename):\n",
    "    g = nx.DiGraph()\n",
    "    with open(filename) as file:\n",
    "        for line in file:\n",
    "            strip_line = line.rstrip()\n",
    "            if strip_line[0] == \"S\":\n",
    "                g.add_node()"
   ]
  },
  {
   "cell_type": "code",
   "execution_count": null,
   "metadata": {},
   "outputs": [
    {
     "data": {
      "text/plain": [
       "True"
      ]
     },
     "execution_count": 59,
     "metadata": {},
     "output_type": "execute_result"
    }
   ],
   "source": []
  },
  {
   "cell_type": "code",
   "execution_count": null,
   "metadata": {},
   "outputs": [],
   "source": []
  }
 ],
 "metadata": {
  "kernelspec": {
   "display_name": "pangenome",
   "language": "python",
   "name": "python3"
  },
  "language_info": {
   "codemirror_mode": {
    "name": "ipython",
    "version": 3
   },
   "file_extension": ".py",
   "mimetype": "text/x-python",
   "name": "python",
   "nbconvert_exporter": "python",
   "pygments_lexer": "ipython3",
   "version": "3.6.-1"
  }
 },
 "nbformat": 4,
 "nbformat_minor": 2
}
